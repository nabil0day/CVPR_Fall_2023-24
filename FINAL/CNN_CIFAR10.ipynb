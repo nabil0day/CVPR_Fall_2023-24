{
  "nbformat": 4,
  "nbformat_minor": 0,
  "metadata": {
    "colab": {
      "provenance": []
    },
    "kernelspec": {
      "name": "python3",
      "display_name": "Python 3"
    },
    "language_info": {
      "name": "python"
    }
  },
  "cells": [
    {
      "cell_type": "code",
      "execution_count": 1,
      "metadata": {
        "id": "GnunDMdZ3gfL"
      },
      "outputs": [],
      "source": [
        "import tensorflow as tf\n",
        "from tensorflow import keras\n",
        "from tensorflow.keras import layers\n",
        "from tensorflow.keras.datasets import cifar10\n",
        "\n",
        "import os\n",
        "import numpy as np\n",
        "import matplotlib.pyplot as plt"
      ]
    },
    {
      "cell_type": "code",
      "source": [
        "(X_train, Y_train), (X_test, Y_test) = cifar10.load_data()\n",
        "print(X_train.shape, Y_train.shape)\n",
        "print(X_test.shape, Y_test.shape)"
      ],
      "metadata": {
        "colab": {
          "base_uri": "https://localhost:8080/"
        },
        "id": "IHKOb3N54Lo1",
        "outputId": "92a28f80-a1d6-415b-86d1-3df09d261c23"
      },
      "execution_count": 2,
      "outputs": [
        {
          "output_type": "stream",
          "name": "stdout",
          "text": [
            "Downloading data from https://www.cs.toronto.edu/~kriz/cifar-10-python.tar.gz\n",
            "170498071/170498071 [==============================] - 3s 0us/step\n",
            "(50000, 32, 32, 3) (50000, 1)\n",
            "(10000, 32, 32, 3) (10000, 1)\n"
          ]
        }
      ]
    },
    {
      "cell_type": "code",
      "source": [
        "class_names = ['airplane', 'automobile', 'bird', 'cat', 'deer', 'dog', 'frog', 'horse', 'ship', 'truck']"
      ],
      "metadata": {
        "id": "2GrAmobu4c4t"
      },
      "execution_count": 3,
      "outputs": []
    },
    {
      "cell_type": "code",
      "source": [
        "modelAdam = keras.Sequential([\n",
        "    layers.Conv2D(32, (3, 3), activation='relu', input_shape=(32, 32, 3)),\n",
        "    layers.MaxPooling2D((2, 2)),\n",
        "    layers.Conv2D(64, (3, 3), activation='relu'),\n",
        "    layers.MaxPooling2D((2, 2)),\n",
        "    layers.Conv2D(64, (3, 3), activation='relu'),\n",
        "    layers.Flatten(),\n",
        "    layers.Dense(64, activation='relu'),\n",
        "    layers.Dense(10, activation='softmax')\n",
        "])"
      ],
      "metadata": {
        "id": "5uswcpSo6Hw5"
      },
      "execution_count": 6,
      "outputs": []
    },
    {
      "cell_type": "code",
      "source": [
        "modelSGD = keras.Sequential([\n",
        "    layers.Conv2D(32, (3, 3), activation='relu', input_shape=(32, 32, 3)),\n",
        "    layers.MaxPooling2D((2, 2)),\n",
        "    layers.Conv2D(64, (3, 3), activation='relu'),\n",
        "    layers.MaxPooling2D((2, 2)),\n",
        "    layers.Conv2D(64, (3, 3), activation='relu'),\n",
        "    layers.Flatten(),\n",
        "    layers.Dense(64, activation='relu'),\n",
        "    layers.Dense(10, activation='softmax')\n",
        "])"
      ],
      "metadata": {
        "id": "NqhjLjZz7Oy3"
      },
      "execution_count": 7,
      "outputs": []
    },
    {
      "cell_type": "code",
      "source": [
        "modelRMSprop = keras.Sequential([\n",
        "    layers.Conv2D(32, (3, 3), activation='relu', input_shape=(32, 32, 3)),\n",
        "    layers.MaxPooling2D((2, 2)),\n",
        "    layers.Conv2D(64, (3, 3), activation='relu'),\n",
        "    keras.layers.MaxPooling2D((2, 2)),\n",
        "    keras.layers.Conv2D(64, (3, 3), activation='relu'),\n",
        "    keras.layers.Flatten(),\n",
        "    keras.layers.Dense(64, activation='relu'),\n",
        "    keras.layers.Dense(10, activation='softmax')\n",
        "])"
      ],
      "metadata": {
        "id": "Fu2mDK-N7aV8"
      },
      "execution_count": 8,
      "outputs": []
    },
    {
      "cell_type": "code",
      "source": [
        "modelAdam.compile(optimizer='adam', loss='sparse_categorical_crossentropy', metrics=['accuracy'])\n",
        "modelSGD.compile(optimizer='sgd', loss='sparse_categorical_crossentropy', metrics=['accuracy'])\n",
        "modelRMSprop.compile(optimizer='rmsprop', loss='sparse_categorical_crossentropy', metrics=['accuracy'])"
      ],
      "metadata": {
        "id": "xjXaTrcX72qO"
      },
      "execution_count": 9,
      "outputs": []
    },
    {
      "cell_type": "code",
      "source": [
        "print(\"ADAM\")\n",
        "historyAdam = modelAdam.fit(X_train, Y_train, epochs=10, batch_size=64, validation_data=(X_test, Y_test))\n",
        "\n",
        "print(\"SGD\")\n",
        "historySGD = modelSGD.fit(X_train, Y_train, epochs=10, batch_size=64, validation_data=(X_test, Y_test))\n",
        "\n",
        "print(\"RMSprop\")\n",
        "historyRMSprop = modelRMSprop.fit(X_train, Y_train, epochs=10, batch_size=64, validation_data=(X_test, Y_test))"
      ],
      "metadata": {
        "colab": {
          "base_uri": "https://localhost:8080/"
        },
        "id": "Rb0L6AXj8PqX",
        "outputId": "b4a4cc0b-6474-4203-92ee-49732ac1a6c8"
      },
      "execution_count": 10,
      "outputs": [
        {
          "output_type": "stream",
          "name": "stdout",
          "text": [
            "ADAM\n",
            "Epoch 1/10\n",
            "782/782 [==============================] - 39s 49ms/step - loss: 1.8985 - accuracy: 0.3526 - val_loss: 1.5053 - val_accuracy: 0.4452\n",
            "Epoch 2/10\n",
            "782/782 [==============================] - 37s 47ms/step - loss: 1.3215 - accuracy: 0.5226 - val_loss: 1.2184 - val_accuracy: 0.5634\n",
            "Epoch 3/10\n",
            "782/782 [==============================] - 36s 46ms/step - loss: 1.1628 - accuracy: 0.5875 - val_loss: 1.1756 - val_accuracy: 0.5829\n",
            "Epoch 4/10\n",
            "782/782 [==============================] - 35s 45ms/step - loss: 1.0511 - accuracy: 0.6289 - val_loss: 1.0973 - val_accuracy: 0.6181\n",
            "Epoch 5/10\n",
            "782/782 [==============================] - 36s 46ms/step - loss: 0.9712 - accuracy: 0.6603 - val_loss: 1.1243 - val_accuracy: 0.6104\n",
            "Epoch 6/10\n",
            "782/782 [==============================] - 36s 46ms/step - loss: 0.8915 - accuracy: 0.6875 - val_loss: 1.0512 - val_accuracy: 0.6465\n",
            "Epoch 7/10\n",
            "782/782 [==============================] - 35s 45ms/step - loss: 0.8324 - accuracy: 0.7083 - val_loss: 1.0026 - val_accuracy: 0.6609\n",
            "Epoch 8/10\n",
            "782/782 [==============================] - 35s 45ms/step - loss: 0.7842 - accuracy: 0.7242 - val_loss: 0.9747 - val_accuracy: 0.6713\n",
            "Epoch 9/10\n",
            "782/782 [==============================] - 36s 46ms/step - loss: 0.7325 - accuracy: 0.7421 - val_loss: 0.9779 - val_accuracy: 0.6750\n",
            "Epoch 10/10\n",
            "782/782 [==============================] - 36s 46ms/step - loss: 0.6934 - accuracy: 0.7558 - val_loss: 0.9772 - val_accuracy: 0.6847\n",
            "SGD\n",
            "Epoch 1/10\n",
            "782/782 [==============================] - 36s 45ms/step - loss: 1630583132709946654720.0000 - accuracy: 0.0993 - val_loss: 2.3026 - val_accuracy: 0.1000\n",
            "Epoch 2/10\n",
            "782/782 [==============================] - 34s 43ms/step - loss: 2.3027 - accuracy: 0.0985 - val_loss: 2.3026 - val_accuracy: 0.1000\n",
            "Epoch 3/10\n",
            "782/782 [==============================] - 35s 44ms/step - loss: 2.3026 - accuracy: 0.0970 - val_loss: 2.3026 - val_accuracy: 0.1000\n",
            "Epoch 4/10\n",
            "782/782 [==============================] - 33s 43ms/step - loss: 2.3026 - accuracy: 0.0970 - val_loss: 2.3026 - val_accuracy: 0.1000\n",
            "Epoch 5/10\n",
            "782/782 [==============================] - 34s 44ms/step - loss: 2.3026 - accuracy: 0.0973 - val_loss: 2.3026 - val_accuracy: 0.1000\n",
            "Epoch 6/10\n",
            "782/782 [==============================] - 34s 44ms/step - loss: 2.3027 - accuracy: 0.0971 - val_loss: 2.3026 - val_accuracy: 0.1000\n",
            "Epoch 7/10\n",
            "782/782 [==============================] - 33s 43ms/step - loss: 2.3026 - accuracy: 0.0971 - val_loss: 2.3026 - val_accuracy: 0.1000\n",
            "Epoch 8/10\n",
            "782/782 [==============================] - 35s 44ms/step - loss: 2.3027 - accuracy: 0.0971 - val_loss: 2.3026 - val_accuracy: 0.1000\n",
            "Epoch 9/10\n",
            "782/782 [==============================] - 34s 44ms/step - loss: 2.3027 - accuracy: 0.0965 - val_loss: 2.3026 - val_accuracy: 0.1000\n",
            "Epoch 10/10\n",
            "782/782 [==============================] - 33s 43ms/step - loss: 2.3026 - accuracy: 0.0982 - val_loss: 2.3026 - val_accuracy: 0.1000\n",
            "RMSprop\n",
            "Epoch 1/10\n",
            "782/782 [==============================] - 36s 46ms/step - loss: 2.0160 - accuracy: 0.3359 - val_loss: 1.4828 - val_accuracy: 0.4728\n",
            "Epoch 2/10\n",
            "782/782 [==============================] - 37s 47ms/step - loss: 1.3864 - accuracy: 0.5136 - val_loss: 1.5895 - val_accuracy: 0.4375\n",
            "Epoch 3/10\n",
            "782/782 [==============================] - 35s 44ms/step - loss: 1.2276 - accuracy: 0.5774 - val_loss: 1.2891 - val_accuracy: 0.5582\n",
            "Epoch 4/10\n",
            "782/782 [==============================] - 35s 45ms/step - loss: 1.1272 - accuracy: 0.6146 - val_loss: 1.2088 - val_accuracy: 0.5928\n",
            "Epoch 5/10\n",
            "782/782 [==============================] - 36s 46ms/step - loss: 1.0479 - accuracy: 0.6430 - val_loss: 1.5904 - val_accuracy: 0.5397\n",
            "Epoch 6/10\n",
            "782/782 [==============================] - 36s 46ms/step - loss: 0.9989 - accuracy: 0.6629 - val_loss: 1.1443 - val_accuracy: 0.6272\n",
            "Epoch 7/10\n",
            "782/782 [==============================] - 35s 44ms/step - loss: 0.9628 - accuracy: 0.6737 - val_loss: 1.3120 - val_accuracy: 0.5828\n",
            "Epoch 8/10\n",
            "782/782 [==============================] - 36s 46ms/step - loss: 0.9338 - accuracy: 0.6838 - val_loss: 1.4858 - val_accuracy: 0.5717\n",
            "Epoch 9/10\n",
            "782/782 [==============================] - 36s 46ms/step - loss: 0.9177 - accuracy: 0.6933 - val_loss: 1.2976 - val_accuracy: 0.6039\n",
            "Epoch 10/10\n",
            "782/782 [==============================] - 35s 45ms/step - loss: 0.9088 - accuracy: 0.6981 - val_loss: 1.3984 - val_accuracy: 0.5698\n"
          ]
        }
      ]
    }
  ]
}